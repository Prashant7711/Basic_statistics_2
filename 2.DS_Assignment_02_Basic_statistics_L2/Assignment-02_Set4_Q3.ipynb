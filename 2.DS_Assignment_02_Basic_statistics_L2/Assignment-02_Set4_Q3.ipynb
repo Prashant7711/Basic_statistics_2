{
 "cells": [
  {
   "cell_type": "code",
   "execution_count": 1,
   "id": "971c5118",
   "metadata": {},
   "outputs": [],
   "source": [
    "import numpy as np\n",
    "from scipy import stats\n",
    "from scipy.stats import norm"
   ]
  },
  {
   "cell_type": "code",
   "execution_count": null,
   "id": "ff710c6e",
   "metadata": {},
   "outputs": [],
   "source": [
    "# n=100, Pop Mean=50, SD=40 As no. of samples is more than 30, we can consider it normal distribution\n",
    "\n",
    "# For No investigation P(45)\n",
    "\n",
    "# For Investigation 1-P(45)\n"
   ]
  },
  {
   "cell_type": "code",
   "execution_count": 2,
   "id": "896e8aea",
   "metadata": {},
   "outputs": [
    {
     "data": {
      "text/plain": [
       "-1.25"
      ]
     },
     "execution_count": 2,
     "metadata": {},
     "output_type": "execute_result"
    }
   ],
   "source": [
    "# find z-scores at x=45;\n",
    "\n",
    "# z=(s_mean-P_mean)/(p_SD/sqrt(n))\n",
    "\n",
    "z=(45-50)/(40/100**0.5)\n",
    "\n",
    "z"
   ]
  },
  {
   "cell_type": "code",
   "execution_count": 3,
   "id": "2bd1fa40",
   "metadata": {},
   "outputs": [
    {
     "data": {
      "text/plain": [
       "1.25"
      ]
     },
     "execution_count": 3,
     "metadata": {},
     "output_type": "execute_result"
    }
   ],
   "source": [
    "# find z-scores at x=55;\n",
    "\n",
    "# z=(s_mean-P_mean)/(p_SD/sqrt(n))\n",
    "\n",
    "z=(55-50)/(40/100**0.5)\n",
    "\n",
    "z"
   ]
  },
  {
   "cell_type": "code",
   "execution_count": 5,
   "id": "55d90aaa",
   "metadata": {},
   "outputs": [
    {
     "data": {
      "text/plain": [
       "0.7887004526662893"
      ]
     },
     "execution_count": 5,
     "metadata": {},
     "output_type": "execute_result"
    }
   ],
   "source": [
    "# For No investigation P(45)\n",
    "\n",
    "stats.norm.cdf(1.25)-stats.norm.cdf(-1.25)\n"
   ]
  },
  {
   "cell_type": "code",
   "execution_count": 6,
   "id": "30153634",
   "metadata": {},
   "outputs": [
    {
     "data": {
      "text/plain": [
       "(45.00000495667348, 54.99999504332652)"
      ]
     },
     "execution_count": 6,
     "metadata": {},
     "output_type": "execute_result"
    }
   ],
   "source": [
    "stats.norm.interval(0.7887,loc=50,scale=40/(100**0.5))"
   ]
  },
  {
   "cell_type": "code",
   "execution_count": 7,
   "id": "cfdb6c30",
   "metadata": {},
   "outputs": [
    {
     "data": {
      "text/plain": [
       "0.21130000000000004"
      ]
     },
     "execution_count": 7,
     "metadata": {},
     "output_type": "execute_result"
    }
   ],
   "source": [
    "# For Investigation 1-P(45)\n",
    "\n",
    "1-0.7887\n"
   ]
  },
  {
   "cell_type": "code",
   "execution_count": null,
   "id": "20620b2a",
   "metadata": {},
   "outputs": [],
   "source": [
    "# Answer-: 21.13 %"
   ]
  }
 ],
 "metadata": {
  "kernelspec": {
   "display_name": "Python 3 (ipykernel)",
   "language": "python",
   "name": "python3"
  },
  "language_info": {
   "codemirror_mode": {
    "name": "ipython",
    "version": 3
   },
   "file_extension": ".py",
   "mimetype": "text/x-python",
   "name": "python",
   "nbconvert_exporter": "python",
   "pygments_lexer": "ipython3",
   "version": "3.9.12"
  }
 },
 "nbformat": 4,
 "nbformat_minor": 5
}
